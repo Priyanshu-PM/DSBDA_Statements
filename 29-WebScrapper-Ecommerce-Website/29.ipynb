{
  "nbformat": 4,
  "nbformat_minor": 0,
  "metadata": {
    "colab": {
      "provenance": []
    },
    "kernelspec": {
      "name": "python3",
      "display_name": "Python 3"
    },
    "language_info": {
      "name": "python"
    }
  },
  "cells": [
    {
      "cell_type": "code",
      "source": [
        "import requests\n",
        "from bs4 import BeautifulSoup as bs\n",
        "import pandas as pd\n",
        "import numpy as np"
      ],
      "metadata": {
        "id": "YKVL6QUysutQ"
      },
      "execution_count": 3,
      "outputs": []
    },
    {
      "cell_type": "code",
      "source": [
        "link = 'https://www.amazon.in/Apple-iPhone-14-128GB-Midnight/product-reviews/B0BDHX8Z63/ref=cm_cr_dp_d_show_all_btm?ie=UTF8&reviewerType=all_reviews'\n",
        "headers = {\n",
        "    'User-Agent': 'Mozilla/5.0 (Windows NT 6.1) AppleWebKit/537.36 (KHTML, like Gecko) Chrome/41.0.2228.0 Safari/537.36'\n",
        "}\n",
        "\n",
        "page = requests.get(link, headers=headers)\n"
      ],
      "metadata": {
        "id": "87YEmgVxs2hp"
      },
      "execution_count": 7,
      "outputs": []
    },
    {
      "cell_type": "code",
      "source": [
        "page"
      ],
      "metadata": {
        "colab": {
          "base_uri": "https://localhost:8080/"
        },
        "id": "7GnMDtgetUPk",
        "outputId": "c593b7ff-64e2-4a6b-ad05-852545b06216"
      },
      "execution_count": 8,
      "outputs": [
        {
          "output_type": "execute_result",
          "data": {
            "text/plain": [
              "<Response [200]>"
            ]
          },
          "metadata": {},
          "execution_count": 8
        }
      ]
    },
    {
      "cell_type": "code",
      "source": [
        "soup = bs(page.content, 'html.parser')"
      ],
      "metadata": {
        "id": "3RPW0qo0tpLn"
      },
      "execution_count": 9,
      "outputs": []
    },
    {
      "cell_type": "code",
      "source": [
        "print(soup.prettify())"
      ],
      "metadata": {
        "colab": {
          "base_uri": "https://localhost:8080/"
        },
        "id": "HjuqwcvLuCtC",
        "outputId": "093d77c2-190b-4265-89a5-fbdd06bf0931"
      },
      "execution_count": 10,
      "outputs": [
        {
          "output_type": "stream",
          "name": "stdout",
          "text": [
            "<!DOCTYPE html>\n",
            "<!--[if lt IE 7]> <html lang=\"en-us\" class=\"a-no-js a-lt-ie9 a-lt-ie8 a-lt-ie7\"> <![endif]-->\n",
            "<!--[if IE 7]>    <html lang=\"en-us\" class=\"a-no-js a-lt-ie9 a-lt-ie8\"> <![endif]-->\n",
            "<!--[if IE 8]>    <html lang=\"en-us\" class=\"a-no-js a-lt-ie9\"> <![endif]-->\n",
            "<!--[if gt IE 8]><!-->\n",
            "<html class=\"a-no-js\" lang=\"en-us\">\n",
            " <!--<![endif]-->\n",
            " <head>\n",
            "  <meta content=\"text/html; charset=utf-8\" http-equiv=\"content-type\"/>\n",
            "  <meta charset=\"utf-8\"/>\n",
            "  <meta content=\"IE=edge,chrome=1\" http-equiv=\"X-UA-Compatible\"/>\n",
            "  <title dir=\"ltr\">\n",
            "   Amazon.in\n",
            "  </title>\n",
            "  <meta content=\"width=device-width\" name=\"viewport\"/>\n",
            "  <link href=\"https://images-na.ssl-images-amazon.com/images/G/01/AUIClients/AmazonUI-3c913031596ca78a3768f4e934b1cc02ce238101.secure.min._V1_.css\" rel=\"stylesheet\"/>\n",
            "  <script>\n",
            "   if (true === true) {\n",
            "    var ue_t0 = (+ new Date()),\n",
            "        ue_csm = window,\n",
            "        ue = { t0: ue_t0, d: function() { return (+new Date() - ue_t0); } },\n",
            "        ue_furl = \"fls-eu.amazon.in\",\n",
            "        ue_mid = \"A21TJRUUN4KGV\",\n",
            "        ue_sid = (document.cookie.match(/session-id=([0-9-]+)/) || [])[1],\n",
            "        ue_sn = \"opfcaptcha.amazon.in\",\n",
            "        ue_id = 'VKM651NWZV9KZERBZBN9';\n",
            "}\n",
            "  </script>\n",
            " </head>\n",
            " <body>\n",
            "  <!--\n",
            "        To discuss automated access to Amazon data please contact api-services-support@amazon.com.\n",
            "        For information about migrating to our APIs refer to our Marketplace APIs at https://developer.amazonservices.in/ref=rm_c_sv, or our Product Advertising API at https://affiliate-program.amazon.in/gp/advertising/api/detail/main.html/ref=rm_c_ac for advertising use cases.\n",
            "-->\n",
            "  <!--\n",
            "Correios.DoNotSend\n",
            "-->\n",
            "  <div class=\"a-container a-padding-double-large\" style=\"min-width:350px;padding:44px 0 !important\">\n",
            "   <div class=\"a-row a-spacing-double-large\" style=\"width: 350px; margin: 0 auto\">\n",
            "    <div class=\"a-row a-spacing-medium a-text-center\">\n",
            "     <i class=\"a-icon a-logo\">\n",
            "     </i>\n",
            "    </div>\n",
            "    <div class=\"a-box a-alert a-alert-info a-spacing-base\">\n",
            "     <div class=\"a-box-inner\">\n",
            "      <i class=\"a-icon a-icon-alert\">\n",
            "      </i>\n",
            "      <h4>\n",
            "       Enter the characters you see below\n",
            "      </h4>\n",
            "      <p class=\"a-last\">\n",
            "       Sorry, we just need to make sure you're not a robot. For best results, please make sure your browser is accepting cookies.\n",
            "      </p>\n",
            "     </div>\n",
            "    </div>\n",
            "    <div class=\"a-section\">\n",
            "     <div class=\"a-box a-color-offset-background\">\n",
            "      <div class=\"a-box-inner a-padding-extra-large\">\n",
            "       <form action=\"/errors/validateCaptcha\" method=\"get\" name=\"\">\n",
            "        <input name=\"amzn\" type=\"hidden\" value=\"Pz4atRgMTSMPMObUOMBlgQ==\"/>\n",
            "        <input name=\"amzn-r\" type=\"hidden\" value=\"/Apple-iPhone-14-128GB-Midnight/product-reviews/B0BDHX8Z63/ref=cm_cr_dp_d_show_all_btm?ie=UTF8&amp;reviewerType=all_reviews\"/>\n",
            "        <div class=\"a-row a-spacing-large\">\n",
            "         <div class=\"a-box\">\n",
            "          <div class=\"a-box-inner\">\n",
            "           <h4>\n",
            "            Type the characters you see in this image:\n",
            "           </h4>\n",
            "           <!-- For automated access to price change or offer listing change events,\n",
            "                                             please refer to the MWS Subscription API:\n",
            "                                             https://developer.amazonservices.in/gp/mws/api.html/276-5247872-0590350?ie=UTF8&section=subscriptions&group=subscriptions&version=latest\n",
            "                                        -->\n",
            "           <div class=\"a-row a-text-center\">\n",
            "            <img src=\"https://images-na.ssl-images-amazon.com/captcha/cdkxpfei/Captcha_dsnupupdsx.jpg\"/>\n",
            "           </div>\n",
            "           <div class=\"a-row a-spacing-base\">\n",
            "            <div class=\"a-row\">\n",
            "             <div class=\"a-column a-span6\">\n",
            "             </div>\n",
            "             <div class=\"a-column a-span6 a-span-last a-text-right\">\n",
            "              <a onclick=\"window.location.reload()\">\n",
            "               Try different image\n",
            "              </a>\n",
            "             </div>\n",
            "            </div>\n",
            "            <input autocapitalize=\"off\" autocomplete=\"off\" autocorrect=\"off\" class=\"a-span12\" id=\"captchacharacters\" name=\"field-keywords\" placeholder=\"Type characters\" spellcheck=\"false\" type=\"text\"/>\n",
            "           </div>\n",
            "          </div>\n",
            "         </div>\n",
            "        </div>\n",
            "        <div class=\"a-section a-spacing-extra-large\">\n",
            "         <div class=\"a-row\">\n",
            "          <span class=\"a-button a-button-primary a-span12\">\n",
            "           <span class=\"a-button-inner\">\n",
            "            <button class=\"a-button-text\" type=\"submit\">\n",
            "             Continue shopping\n",
            "            </button>\n",
            "           </span>\n",
            "          </span>\n",
            "         </div>\n",
            "        </div>\n",
            "       </form>\n",
            "      </div>\n",
            "     </div>\n",
            "    </div>\n",
            "   </div>\n",
            "   <div class=\"a-divider a-divider-section\">\n",
            "    <div class=\"a-divider-inner\">\n",
            "    </div>\n",
            "   </div>\n",
            "   <div class=\"a-text-center a-spacing-small a-size-mini\">\n",
            "    <a href=\"https://www.amazon.in/gp/help/customer/display.html/ref=footer_cou?ie=UTF8&amp;nodeId=200545940\">\n",
            "     Conditions of Use &amp; Sale\n",
            "    </a>\n",
            "    <span class=\"a-letter-space\">\n",
            "    </span>\n",
            "    <span class=\"a-letter-space\">\n",
            "    </span>\n",
            "    <span class=\"a-letter-space\">\n",
            "    </span>\n",
            "    <span class=\"a-letter-space\">\n",
            "    </span>\n",
            "    <a href=\"https://www.amazon.in/gp/help/customer/display.html/ref=footer_privacy?ie=UTF8&amp;nodeId=200534380\">\n",
            "     Privacy Notice\n",
            "    </a>\n",
            "   </div>\n",
            "   <div class=\"a-text-center a-size-mini a-color-secondary\">\n",
            "    © 1996-2015, Amazon.com, Inc. or its affiliates\n",
            "    <script>\n",
            "     if (true === true) {\n",
            "             document.write('<img src=\"https://fls-eu.amaz'+'on.in/'+'1/oc-csi/1/OP/requestId=VKM651NWZV9KZERBZBN9&js=1\" />');\n",
            "           };\n",
            "    </script>\n",
            "    <noscript>\n",
            "     <img src=\"https://fls-eu.amazon.in/1/oc-csi/1/OP/requestId=VKM651NWZV9KZERBZBN9&amp;js=0\">\n",
            "     </img>\n",
            "    </noscript>\n",
            "   </div>\n",
            "  </div>\n",
            "  <script>\n",
            "   if (true === true) {\n",
            "        var head = document.getElementsByTagName('head')[0],\n",
            "            prefix = \"https://images-eu.ssl-images-amazon.com/images/G/01/csminstrumentation/\",\n",
            "            elem = document.createElement(\"script\");\n",
            "        elem.src = prefix + \"csm-captcha-instrumentation.min.js\";\n",
            "        head.appendChild(elem);\n",
            "\n",
            "        elem = document.createElement(\"script\");\n",
            "        elem.src = prefix + \"rd-script-6d68177fa6061598e9509dc4b5bdd08d.js\";\n",
            "        head.appendChild(elem);\n",
            "    }\n",
            "  </script>\n",
            " </body>\n",
            "</html>\n",
            "\n"
          ]
        }
      ]
    },
    {
      "cell_type": "code",
      "source": [
        "names = soup.find_all('span', class_='a-profile-name')"
      ],
      "metadata": {
        "id": "3AHk-B8xu0Lp"
      },
      "execution_count": 16,
      "outputs": []
    },
    {
      "cell_type": "code",
      "source": [
        "names"
      ],
      "metadata": {
        "colab": {
          "base_uri": "https://localhost:8080/"
        },
        "id": "xtC5rZg_vGoN",
        "outputId": "81f4c280-6fcd-4558-e1db-8102d0bea54d"
      },
      "execution_count": 17,
      "outputs": [
        {
          "output_type": "execute_result",
          "data": {
            "text/plain": [
              "[]"
            ]
          },
          "metadata": {},
          "execution_count": 17
        }
      ]
    },
    {
      "cell_type": "code",
      "source": [
        "cust_name = []\n",
        "\n",
        "for i in range(len(names)):\n",
        "  cust_name.append(names[i].get_text())\n",
        "\n",
        "cust_name"
      ],
      "metadata": {
        "colab": {
          "base_uri": "https://localhost:8080/"
        },
        "id": "1L6T-dBevJsk",
        "outputId": "9995ce0b-c220-4963-995e-af0b83267191"
      },
      "execution_count": 18,
      "outputs": [
        {
          "output_type": "execute_result",
          "data": {
            "text/plain": [
              "[]"
            ]
          },
          "metadata": {},
          "execution_count": 18
        }
      ]
    },
    {
      "cell_type": "code",
      "source": [
        "title = soup.find_all('a', class_='review-title-content')"
      ],
      "metadata": {
        "id": "Xy1zofcvvoTf"
      },
      "execution_count": 19,
      "outputs": []
    },
    {
      "cell_type": "code",
      "source": [
        "title"
      ],
      "metadata": {
        "colab": {
          "base_uri": "https://localhost:8080/"
        },
        "id": "4O1SYXVTvxp7",
        "outputId": "5be92655-bf2c-4cd2-b1d1-0df093fc1143"
      },
      "execution_count": 20,
      "outputs": [
        {
          "output_type": "execute_result",
          "data": {
            "text/plain": [
              "[]"
            ]
          },
          "metadata": {},
          "execution_count": 20
        }
      ]
    },
    {
      "cell_type": "code",
      "source": [
        "review_title = []\n",
        "for i in range(0,len(title)):\n",
        "    review_title.append(title[i].get_text())\n",
        "review_title"
      ],
      "metadata": {
        "colab": {
          "base_uri": "https://localhost:8080/"
        },
        "id": "-DXjspjovyh3",
        "outputId": "4bf502fc-8497-4c15-ce1f-40cecc7c15e7"
      },
      "execution_count": 22,
      "outputs": [
        {
          "output_type": "execute_result",
          "data": {
            "text/plain": [
              "[]"
            ]
          },
          "metadata": {},
          "execution_count": 22
        }
      ]
    },
    {
      "cell_type": "code",
      "source": [
        "review_title[:] = [titles.lstrip('\\n') for titles in review_title]\n",
        "review_title"
      ],
      "metadata": {
        "colab": {
          "base_uri": "https://localhost:8080/"
        },
        "id": "ug7lIHTKv1FH",
        "outputId": "28fbe3db-5c43-4f5a-8d37-b35175618272"
      },
      "execution_count": 24,
      "outputs": [
        {
          "output_type": "execute_result",
          "data": {
            "text/plain": [
              "[]"
            ]
          },
          "metadata": {},
          "execution_count": 24
        }
      ]
    },
    {
      "cell_type": "code",
      "source": [
        "review_title[:] = [titles.rstrip('\\n') for titles in review_title]\n",
        "review_title"
      ],
      "metadata": {
        "colab": {
          "base_uri": "https://localhost:8080/"
        },
        "id": "kOAWZP05v5yO",
        "outputId": "69c02682-24f3-4777-a901-aca5f500699c"
      },
      "execution_count": 25,
      "outputs": [
        {
          "output_type": "execute_result",
          "data": {
            "text/plain": [
              "[]"
            ]
          },
          "metadata": {},
          "execution_count": 25
        }
      ]
    },
    {
      "cell_type": "code",
      "source": [
        "len(review_title)"
      ],
      "metadata": {
        "colab": {
          "base_uri": "https://localhost:8080/"
        },
        "id": "fwIZzEgvv9Ti",
        "outputId": "cf4aa1b1-5aef-469e-aa18-61f5cbb6f17d"
      },
      "execution_count": 26,
      "outputs": [
        {
          "output_type": "execute_result",
          "data": {
            "text/plain": [
              "0"
            ]
          },
          "metadata": {},
          "execution_count": 26
        }
      ]
    },
    {
      "cell_type": "code",
      "source": [
        "rating = soup.find_all('i',class_='review-rating')\n",
        "rating"
      ],
      "metadata": {
        "colab": {
          "base_uri": "https://localhost:8080/"
        },
        "id": "yuBqmbofwIoy",
        "outputId": "e7f4dc7d-9e6b-42b3-885f-1d08c44210ae"
      },
      "execution_count": 27,
      "outputs": [
        {
          "output_type": "execute_result",
          "data": {
            "text/plain": [
              "[]"
            ]
          },
          "metadata": {},
          "execution_count": 27
        }
      ]
    },
    {
      "cell_type": "code",
      "source": [
        "rate = []\n",
        "for i in range(0,len(rating)):\n",
        "    rate.append(rating[i].get_text())\n",
        "rate"
      ],
      "metadata": {
        "colab": {
          "base_uri": "https://localhost:8080/"
        },
        "id": "xT4jozzmwKsm",
        "outputId": "12e93336-f119-4ec2-c1f9-f02d7558d838"
      },
      "execution_count": 28,
      "outputs": [
        {
          "output_type": "execute_result",
          "data": {
            "text/plain": [
              "[]"
            ]
          },
          "metadata": {},
          "execution_count": 28
        }
      ]
    },
    {
      "cell_type": "code",
      "source": [
        "len(rate)"
      ],
      "metadata": {
        "colab": {
          "base_uri": "https://localhost:8080/"
        },
        "id": "HactYgLnwNfW",
        "outputId": "e09b82fa-988f-48a7-b1b0-1c498e4ccd76"
      },
      "execution_count": 29,
      "outputs": [
        {
          "output_type": "execute_result",
          "data": {
            "text/plain": [
              "0"
            ]
          },
          "metadata": {},
          "execution_count": 29
        }
      ]
    },
    {
      "cell_type": "code",
      "source": [
        "review = soup.find_all(\"span\",{\"data-hook\":\"review-body\"})\n",
        "review"
      ],
      "metadata": {
        "colab": {
          "base_uri": "https://localhost:8080/"
        },
        "id": "ln0AQfsqwP-q",
        "outputId": "523e0460-99ac-48fe-8a1e-542d9a9d3cd8"
      },
      "execution_count": 30,
      "outputs": [
        {
          "output_type": "execute_result",
          "data": {
            "text/plain": [
              "[]"
            ]
          },
          "metadata": {},
          "execution_count": 30
        }
      ]
    },
    {
      "cell_type": "code",
      "source": [
        "review_content = []\n",
        "for i in range(0,len(review)):\n",
        "    review_content.append(review[i].get_text())\n",
        "review_content"
      ],
      "metadata": {
        "colab": {
          "base_uri": "https://localhost:8080/"
        },
        "id": "HLJrkw0XwSAW",
        "outputId": "03406872-92d4-4709-fd37-60676afd87ab"
      },
      "execution_count": 32,
      "outputs": [
        {
          "output_type": "execute_result",
          "data": {
            "text/plain": [
              "[]"
            ]
          },
          "metadata": {},
          "execution_count": 32
        }
      ]
    },
    {
      "cell_type": "code",
      "source": [
        "review_content[:] = [reviews.strip('\\n') for reviews in review_content]\n",
        "review_content"
      ],
      "metadata": {
        "colab": {
          "base_uri": "https://localhost:8080/"
        },
        "id": "L_scyBg1wYZW",
        "outputId": "b86e2030-346c-4d16-c3f7-d156e38a10d7"
      },
      "execution_count": 33,
      "outputs": [
        {
          "output_type": "execute_result",
          "data": {
            "text/plain": [
              "[]"
            ]
          },
          "metadata": {},
          "execution_count": 33
        }
      ]
    },
    {
      "cell_type": "code",
      "source": [
        "len(review_content)"
      ],
      "metadata": {
        "colab": {
          "base_uri": "https://localhost:8080/"
        },
        "id": "Rfs3jvn2wbmy",
        "outputId": "9d5bd501-48c2-4916-c0d5-6f4fe3804567"
      },
      "execution_count": 34,
      "outputs": [
        {
          "output_type": "execute_result",
          "data": {
            "text/plain": [
              "0"
            ]
          },
          "metadata": {},
          "execution_count": 34
        }
      ]
    },
    {
      "cell_type": "code",
      "source": [
        "df = pd.DataFrame()\n",
        "df['Customer Name']=cust_name[:10]\n",
        "df['Review title']=review_title[:10]\n",
        "df['Ratings']=rate[:10]\n",
        "df['Reviews']=review_content[:10]"
      ],
      "metadata": {
        "id": "7dtaCFNqwic5"
      },
      "execution_count": 35,
      "outputs": []
    },
    {
      "cell_type": "code",
      "source": [
        "df.to_csv(r'./reviews.csv', index=True)"
      ],
      "metadata": {
        "id": "tPBIBL3Rwk6d"
      },
      "execution_count": 36,
      "outputs": []
    },
    {
      "cell_type": "code",
      "source": [],
      "metadata": {
        "id": "UH0imlGWwuMy"
      },
      "execution_count": null,
      "outputs": []
    }
  ]
}